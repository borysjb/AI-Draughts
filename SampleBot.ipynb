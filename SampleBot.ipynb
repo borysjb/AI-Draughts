{
 "cells": [
  {
   "cell_type": "code",
   "execution_count": 1,
   "id": "stopped-split",
   "metadata": {},
   "outputs": [],
   "source": [
    "import math\n",
    "\n",
    "from PIL import Image, ImageColor\n",
    "import IPython.display\n",
    "\n",
    "from Position import Position\n",
    "from Piece import Piece\n",
    "from Board import Board\n",
    "from Game import Game"
   ]
  },
  {
   "cell_type": "code",
   "execution_count": 2,
   "id": "unknown-infrared",
   "metadata": {},
   "outputs": [],
   "source": [
    "# See Game.py to check, how an implementation of a bot should look like so that it can play games in Engine\n",
    "\n",
    "# A simple bot, which chooses the first white piece and moves it one field forward-right,\n",
    "# without checking if it's a correct move.\n",
    "# It usually looses after a few moves when it attempts to make an incorrect move\n",
    "class SampleBot:\n",
    "    def make_move(self, board):\n",
    "        piece = board.whites[0]\n",
    "        return [piece.position(), piece.position().add(1, 1)]"
   ]
  },
  {
   "cell_type": "code",
   "execution_count": 3,
   "id": "basic-carter",
   "metadata": {},
   "outputs": [],
   "source": [
    "class SampleBotOne:\n",
    "    def make_move(self, board):\n",
    "        if len(board.whites) > 0:\n",
    "            piece = board.whites[1]\n",
    "        else:\n",
    "            piece = board.whites[0]\n",
    "        return [piece.position(), piece.position().add(1, 1)]"
   ]
  },
  {
   "cell_type": "code",
   "execution_count": null,
   "id": "abandoned-robin",
   "metadata": {},
   "outputs": [
    {
     "data": {
      "image/png": "[encoded data removed]",
      "text/plain": [
       "<PIL.Image.Image image mode=RGB size=400x400 at 0x7FC11E8C0100>"
      ]
     },
     "metadata": {},
     "output_type": "display_data"
    }
   ],
   "source": [
    "# Suppose you have a class SampleBot and want to play againt it. Run:\n",
    "bot = SampleBotOne()\n",
    "game = Game(bot, None)\n",
    "game.play_human(False, True)\n",
    "\n",
    "# When you are asked to specify your move in a textfield, specify it similarly as in a bot.\n",
    "# However, don't wrap the locations into Positions class or a list - just list the numbers.\n",
    "# For instance, to move from position (2, 0) to position (3, 1) just type: 2 0 3 1\n",
    "# Also, remember that we firstly specify the row number and then the column number\n",
    "# and that the upper-left field is (0, 0)"
   ]
  },
  {
   "cell_type": "code",
   "execution_count": 1,
   "id": "appreciated-trader",
   "metadata": {},
   "outputs": [
    {
     "ename": "NameError",
     "evalue": "name 'SampleBot' is not defined",
     "output_type": "error",
     "traceback": [
      "\u001b[0;31m---------------------------------------------------------------------------\u001b[0m",
      "\u001b[0;31mNameError\u001b[0m                                 Traceback (most recent call last)",
      "\u001b[0;32m/tmp/ipykernel_5980/1738226050.py\u001b[0m in \u001b[0;36m<module>\u001b[0;34m\u001b[0m\n\u001b[1;32m      1\u001b[0m \u001b[0;31m# Suppose you have classes SampleBot, SampleBotOne and want them to play against each other. Run:\u001b[0m\u001b[0;34m\u001b[0m\u001b[0;34m\u001b[0m\u001b[0;34m\u001b[0m\u001b[0m\n\u001b[0;32m----> 2\u001b[0;31m \u001b[0mbot\u001b[0m \u001b[0;34m=\u001b[0m \u001b[0mSampleBot\u001b[0m\u001b[0;34m(\u001b[0m\u001b[0;34m)\u001b[0m\u001b[0;34m\u001b[0m\u001b[0;34m\u001b[0m\u001b[0m\n\u001b[0m\u001b[1;32m      3\u001b[0m \u001b[0mbotOne\u001b[0m \u001b[0;34m=\u001b[0m \u001b[0mSampleBotOne\u001b[0m\u001b[0;34m(\u001b[0m\u001b[0;34m)\u001b[0m\u001b[0;34m\u001b[0m\u001b[0;34m\u001b[0m\u001b[0m\n\u001b[1;32m      4\u001b[0m \u001b[0mgame\u001b[0m \u001b[0;34m=\u001b[0m \u001b[0mGame\u001b[0m\u001b[0;34m(\u001b[0m\u001b[0mbot\u001b[0m\u001b[0;34m,\u001b[0m \u001b[0mbotOne\u001b[0m\u001b[0;34m)\u001b[0m\u001b[0;34m\u001b[0m\u001b[0;34m\u001b[0m\u001b[0m\n\u001b[1;32m      5\u001b[0m \u001b[0mgame\u001b[0m\u001b[0;34m.\u001b[0m\u001b[0mplay_human\u001b[0m\u001b[0;34m(\u001b[0m\u001b[0;32mTrue\u001b[0m\u001b[0;34m)\u001b[0m\u001b[0;34m\u001b[0m\u001b[0;34m\u001b[0m\u001b[0m\n",
      "\u001b[0;31mNameError\u001b[0m: name 'SampleBot' is not defined"
     ]
    }
   ],
   "source": [
    "# Suppose you have classes SampleBot, SampleBotOne and want them to play against each other. Run:\n",
    "bot = SampleBot()\n",
    "botOne = SampleBotOne()\n",
    "game = Game(bot, botOne)\n",
    "game.play_human(True)"
   ]
  },
  {
   "cell_type": "code",
   "execution_count": null,
   "id": "7fadc9eb",
   "metadata": {},
   "outputs": [],
   "source": []
  }
 ],
 "metadata": {
  "kernelspec": {
   "display_name": "Python 3 (ipykernel)",
   "language": "python",
   "name": "python3"
  },
  "language_info": {
   "codemirror_mode": {
    "name": "ipython",
    "version": 3
   },
   "file_extension": ".py",
   "mimetype": "text/x-python",
   "name": "python",
   "nbconvert_exporter": "python",
   "pygments_lexer": "ipython3",
   "version": "3.8.10"
  }
 },
 "nbformat": 4,
 "nbformat_minor": 5
}
