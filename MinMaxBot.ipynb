{
 "cells": [
  {
   "cell_type": "code",
   "execution_count": 1,
   "id": "cb93c98c",
   "metadata": {},
   "outputs": [],
   "source": [
    "import math\n",
    "import random\n",
    "\n",
    "from PIL import Image, ImageColor\n",
    "import IPython.display\n",
    "\n",
    "from Position import Position\n",
    "from Piece import Piece\n",
    "from Board import Board\n",
    "from Game import Game\n",
    "\n"
   ]
  },
  {
   "cell_type": "code",
   "execution_count": 2,
   "id": "00f15b49",
   "metadata": {},
   "outputs": [],
   "source": [
    "class MinMaxBot:\n",
    "    maxdepth = 4\n",
    "    def make_move(self, board):\n",
    "        bestmove = self.makeMove(board = board, depth = 0, player = True, prevmove = 0) \n",
    "        rand = random.randrange(bestmove.__len__())\n",
    "        return bestmove[0]\n",
    "    \n",
    "    def heuristic_evaluation(self,board):\n",
    "        boardVal = 0\n",
    "\n",
    "        if self.find_moves(board).__len__()==0:\n",
    "            boardVal = -500\n",
    "\n",
    "        if self.find_moves(board.revert()).__len__()==0:\n",
    "             boardVal = 500\n",
    "\n",
    "        for piece in board.whites:\n",
    "            if piece.king:\n",
    "                boardVal += 4\n",
    "            else:\n",
    "                boardVal += 1\n",
    "\n",
    "        for piece in board.blacks:\n",
    "            if piece.king:\n",
    "                boardVal -= 4\n",
    "            else:\n",
    "                boardVal -= 1\n",
    "\n",
    "        return boardVal\n",
    "\n",
    "    def takeSecond(self,elem):\n",
    "        return elem[1]\n",
    "\n",
    "    def makeMove(self,board, depth, player, prevmove):       #player true for 'us' playing, player false for enemy playing\n",
    "        possible_moves = self.find_moves(board)\n",
    "        evaluations = []\n",
    "\n",
    "        if possible_moves.__len__()==0:\n",
    "            return [prevmove, self.heuristic_evaluation(board)]\n",
    "\n",
    "\n",
    "        if depth==self.maxdepth:\n",
    "            return [prevmove, self.heuristic_evaluation(board)]\n",
    "\n",
    "        for move in possible_moves:\n",
    "            newboard = board.make_move(move) \n",
    "            nextmove = self.makeMove(newboard, depth+1, not player, move)\n",
    "            evaluations.append([move, nextmove[1]])\n",
    "\n",
    "        if player:\n",
    "            returns = []\n",
    "            evaluations.sort(key = self.takeSecond, reverse = True)\n",
    "            bestev = evaluations[0][1]\n",
    "            for i in evaluations:\n",
    "                if i[1] == bestev:\n",
    "                    returns.append(i)\n",
    "                else:\n",
    "                    break\n",
    "\n",
    "            rand = random.randrange(returns.__len__())\n",
    "            return returns[rand]\n",
    "        else:\n",
    "            returns = []\n",
    "            evaluations.sort(key = self.takeSecond, reverse = True)\n",
    "            bestev = evaluations[0][1]\n",
    "            for i in evaluations:\n",
    "                if i[1] == bestev:\n",
    "                    i[1]= -i[1]\n",
    "                    returns.append(i)\n",
    "                else:\n",
    "                    break\n",
    "\n",
    "            rand = random.randrange(returns.__len__())\n",
    "            return returns[rand]\n",
    "\n",
    "    def find_moves(self,board):\n",
    "        possible_moves = []\n",
    "\n",
    "        if board.capture_possible():\n",
    "            for white in board.whites:\n",
    "                if not white.king:\n",
    "                    for i in [-1,1]:\n",
    "                        if board.isBlack(white.position().add(1,i)):\n",
    "                            if board.isEmpty(white.position().add(2,2*i)):\n",
    "                                possible_moves.append([white.position(), white.position().add(2,2*i)])\n",
    "\n",
    "                else:\n",
    "                    for xi in [-1, 1]:\n",
    "                        for yi in [-1, 1]:\n",
    "                            where = white.position().add(yi, xi)\n",
    "                        # Go in that direction, until an occuppied field is found or we reach the end of the board\n",
    "                            while (board.isEmpty(where)):\n",
    "                                where = where.add(yi, xi)\n",
    "                            if board.isBlack(where) and board.isEmpty(where.add(yi, xi)):\n",
    "                                where = where.add(yi, xi)\n",
    "                                while (board.isEmpty(where)):\n",
    "                                    possible_moves.append([white.position(), where])\n",
    "                                    where = where.add(yi, xi)\n",
    "\n",
    "                                #todo: add after-skip moves\n",
    "\n",
    "            #todo: add more skips\n",
    "\n",
    "        else:\n",
    "            for white in board.whites:\n",
    "                if not white.king:\n",
    "                    for i in [-1, 1]:         \n",
    "                        # If a piece is a man, check only if a forward-left or forward-right field is empty\n",
    "                        if board.isEmpty(white.position().add(1, i)):\n",
    "                            possible_moves.append([white.position(), white.position().add(1,i)])\n",
    "\n",
    "                else:\n",
    "                    for xi in [-1, 1]:\n",
    "                        for yi in [-1, 1]:\n",
    "                            where = white.position().add(yi, xi)\n",
    "                            # Go in that direction, until an occuppied field is found or we reach the end of the board\n",
    "                            while (board.isEmpty(where)):\n",
    "                                possible_moves.append([white.position(), where])\n",
    "                                where = where.add(yi, xi)\n",
    "\n",
    "        return possible_moves\n"
   ]
  },
  {
   "cell_type": "code",
   "execution_count": null,
   "id": "928fc16e",
   "metadata": {
    "scrolled": false
   },
   "outputs": [
    {
     "data": {
      "image/png": "[encoded data removed]",
      "text/plain": [
       "<PIL.Image.Image image mode=RGB size=400x400 at 0x7F1FF0627AC0>"
      ]
     },
     "metadata": {},
     "output_type": "display_data"
    }
   ],
   "source": [
    "bot = MinMaxBot()\n",
    "bot2 = MinMaxBot()\n",
    "game = Game(bot, bot2)\n",
    "game.play_bots(True)\n",
    "\n"
   ]
  },
  {
   "cell_type": "code",
   "execution_count": null,
   "id": "71c67571",
   "metadata": {},
   "outputs": [],
   "source": []
  },
  {
   "cell_type": "code",
   "execution_count": null,
   "id": "bd5e6959",
   "metadata": {},
   "outputs": [],
   "source": []
  },
  {
   "cell_type": "code",
   "execution_count": null,
   "id": "b818ebd0",
   "metadata": {},
   "outputs": [],
   "source": []
  },
  {
   "cell_type": "code",
   "execution_count": null,
   "id": "2e72b394",
   "metadata": {},
   "outputs": [],
   "source": []
  },
  {
   "cell_type": "code",
   "execution_count": null,
   "id": "1b793ee1",
   "metadata": {},
   "outputs": [],
   "source": []
  },
  {
   "cell_type": "code",
   "execution_count": null,
   "id": "232138ed",
   "metadata": {},
   "outputs": [],
   "source": []
  },
  {
   "cell_type": "code",
   "execution_count": null,
   "id": "b52fc8a0",
   "metadata": {},
   "outputs": [],
   "source": []
  },
  {
   "cell_type": "code",
   "execution_count": null,
   "id": "f4886fcd",
   "metadata": {},
   "outputs": [],
   "source": []
  },
  {
   "cell_type": "markdown",
   "id": "4339cc91",
   "metadata": {
    "collapsed": true
   },
   "source": [
    "## "
   ]
  }
 ],
 "metadata": {
  "kernelspec": {
   "display_name": "Python 3 (ipykernel)",
   "language": "python",
   "name": "python3"
  },
  "language_info": {
   "codemirror_mode": {
    "name": "ipython",
    "version": 3
   },
   "file_extension": ".py",
   "mimetype": "text/x-python",
   "name": "python",
   "nbconvert_exporter": "python",
   "pygments_lexer": "ipython3",
   "version": "3.8.10"
  }
 },
 "nbformat": 4,
 "nbformat_minor": 5
}
