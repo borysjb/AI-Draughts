{
 "cells": [
  {
   "cell_type": "code",
   "execution_count": 1,
   "id": "cb93c98c",
   "metadata": {},
   "outputs": [],
   "source": [
    "import math\n",
    "import random\n",
    "\n",
    "from PIL import Image, ImageColor\n",
    "import IPython.display\n",
    "\n",
    "from Position import Position\n",
    "from Piece import Piece\n",
    "from Board import Board\n",
    "from Game import Game\n",
    "\n",
    "maxdepth = 2"
   ]
  },
  {
   "cell_type": "code",
   "execution_count": 2,
   "id": "ab46ba36",
   "metadata": {},
   "outputs": [],
   "source": [
    "def heuristic_evaluation(board):\n",
    "    boardVal = 0\n",
    "        \n",
    "    if find_moves(board).__len__()==0:\n",
    "        boardVal = -500\n",
    "            \n",
    "    if find_moves(board.revert()).__len__()==0:\n",
    "         boardVal = 500\n",
    "            \n",
    "    for piece in board.whites:\n",
    "        if piece.king:\n",
    "            boardVal += 4\n",
    "        else:\n",
    "            if piece.y==0:\n",
    "                boardVal += 2\n",
    "            else:\n",
    "                boardVal += 1\n",
    "        \n",
    "    for piece in board.blacks:\n",
    "        if piece.king:\n",
    "            boardVal -= 4\n",
    "        else:\n",
    "            if piece.y==9:\n",
    "                boardVal -= 2\n",
    "            else:\n",
    "                boardVal -= 1\n",
    "                \n",
    "    return boardVal"
   ]
  },
  {
   "cell_type": "code",
   "execution_count": 3,
   "id": "efd02779",
   "metadata": {},
   "outputs": [],
   "source": [
    "def find_more_skips(board, move):\n",
    "    skips = []\n",
    "    skips.append(move)\n",
    "    endPlace = len(move)-1\n",
    "    if not board.capture_possible():\n",
    "        return skips\n",
    "    \n",
    "    for white in board.whites:\n",
    "        if white.position() == move[endPlace]:\n",
    "            if not white.king:\n",
    "                for i in [-1,1]:\n",
    "                    for j in [-1,1]:\n",
    "                        if(isBlack(white.position().add(i,j))):\n",
    "                            if(board.isEmpty(white.position().add(2*i, 2*j))):\n",
    "                                skips.append(move+white.position().add(2*i, 2*j))\n",
    "                                \n",
    "    "
   ]
  },
  {
   "cell_type": "code",
   "execution_count": 4,
   "id": "c5fa2b59",
   "metadata": {},
   "outputs": [],
   "source": [
    "def find_moves(board):\n",
    "    possible_moves = []\n",
    "    \n",
    "    if board.capture_possible():\n",
    "        for white in board.whites:\n",
    "            if not white.king:\n",
    "                for i in [-1,1]:\n",
    "                    if board.isBlack(white.position().add(1,i)):\n",
    "                        if board.isEmpty(white.position().add(2,2*i)):\n",
    "                            possible_moves.append([white.position(), white.position().add(2,2*i)])\n",
    "        \n",
    "            else:\n",
    "                for xi in [-1, 1]:\n",
    "                    for yi in [-1, 1]:\n",
    "                        where = white.position().add(yi, xi)\n",
    "                    # Go in that direction, until an occuppied field is found or we reach the end of the board\n",
    "                        while (board.isEmpty(where)):\n",
    "                            where = where.add(yi, xi)\n",
    "                        if board.isBlack(where) and board.isEmpty(where.add(yi, xi)):\n",
    "                            where = where.add(yi, xi)\n",
    "                            while (board.isEmpty(where)):\n",
    "                                possible_moves.append([white.position(), where])\n",
    "                                where = where.add(yi, xi)\n",
    "                            \n",
    "                            #todo: add after-skip moves\n",
    "                \n",
    "        #todo: add more skips\n",
    "                            \n",
    "    else:\n",
    "        for white in board.whites:\n",
    "            if not white.king:\n",
    "                for i in [-1, 1]:         \n",
    "                    # If a piece is a man, check only if a forward-left or forward-right field is empty\n",
    "                    if board.isEmpty(white.position().add(1, i)):\n",
    "                        possible_moves.append([white.position(), white.position().add(1,i)])\n",
    "\n",
    "            else:\n",
    "                for xi in [-1, 1]:\n",
    "                    for yi in [-1, 1]:\n",
    "                        where = white.position().add(yi, xi)\n",
    "                        # Go in that direction, until an occuppied field is found or we reach the end of the board\n",
    "                        while (board.isEmpty(where)):\n",
    "                            possible_moves.append([white.position(), where])\n",
    "                            where = where.add(yi, xi)\n",
    "\n",
    "    return possible_moves"
   ]
  },
  {
   "cell_type": "code",
   "execution_count": 5,
   "id": "b7033d86",
   "metadata": {},
   "outputs": [],
   "source": [
    "def takeSecond(elem):\n",
    "    return elem[1]\n",
    "\n",
    "def makeMove(board, depth, player, prevmove):       #player true for 'us' playing, player false for enemy playing\n",
    "    possible_moves = find_moves(board)\n",
    "    evaluations = []\n",
    "    \n",
    "    if possible_moves.__len__()==0:\n",
    "        return [prevmove, -500]\n",
    "        \n",
    "    \n",
    "    if depth==maxdepth:\n",
    "        return [prevmove, heuristic_evaluation(board)]\n",
    "    \n",
    "    for move in possible_moves:\n",
    "        newboard = board.make_move(move) \n",
    "        nextmove = makeMove(newboard, depth+1, not player, move)\n",
    "        evaluations.append([move, nextmove[1]])\n",
    "        \n",
    "    if player:\n",
    "        returns = []\n",
    "        evaluations.sort(key = takeSecond, reverse = True)\n",
    "        bestev = evaluations[0][1]\n",
    "        for i in evaluations:\n",
    "            if i[1] == bestev:\n",
    "                returns.append(i)\n",
    "            else:\n",
    "                break\n",
    "        \n",
    "        rand = random.randrange(returns.__len__())\n",
    "        return returns[rand]\n",
    "    else:\n",
    "        returns = []\n",
    "        evaluations.sort(key = takeSecond)\n",
    "        bestev = evaluations[0][1]\n",
    "        for i in evaluations:\n",
    "            if i[1] == bestev:\n",
    "                returns.append(i)\n",
    "            else:\n",
    "                break\n",
    "        \n",
    "        rand = random.randrange(returns.__len__())\n",
    "        return returns[rand]"
   ]
  },
  {
   "cell_type": "code",
   "execution_count": 6,
   "id": "00f15b49",
   "metadata": {},
   "outputs": [],
   "source": [
    "class MinMaxBot:\n",
    "    def make_move(self, board):\n",
    "        bestmove = makeMove(board = board, depth = 0, player = True, prevmove = 0) \n",
    "        rand = random.randrange(bestmove.__len__())\n",
    "        return bestmove[0]\n",
    "    "
   ]
  },
  {
   "cell_type": "code",
   "execution_count": 7,
   "id": "928fc16e",
   "metadata": {
    "scrolled": false
   },
   "outputs": [
    {
     "ename": "UnboundLocalError",
     "evalue": "local variable 'boardval' referenced before assignment",
     "output_type": "error",
     "traceback": [
      "\u001b[0;31m---------------------------------------------------------------------------\u001b[0m",
      "\u001b[0;31mUnboundLocalError\u001b[0m                         Traceback (most recent call last)",
      "\u001b[0;32m/tmp/ipykernel_64275/3883287404.py\u001b[0m in \u001b[0;36m<module>\u001b[0;34m\u001b[0m\n\u001b[1;32m      2\u001b[0m \u001b[0mbot2\u001b[0m \u001b[0;34m=\u001b[0m \u001b[0mMinMaxBot\u001b[0m\u001b[0;34m(\u001b[0m\u001b[0;34m)\u001b[0m\u001b[0;34m\u001b[0m\u001b[0;34m\u001b[0m\u001b[0m\n\u001b[1;32m      3\u001b[0m \u001b[0mgame\u001b[0m \u001b[0;34m=\u001b[0m \u001b[0mGame\u001b[0m\u001b[0;34m(\u001b[0m\u001b[0mbot\u001b[0m\u001b[0;34m,\u001b[0m \u001b[0mbot2\u001b[0m\u001b[0;34m)\u001b[0m\u001b[0;34m\u001b[0m\u001b[0;34m\u001b[0m\u001b[0m\n\u001b[0;32m----> 4\u001b[0;31m \u001b[0mgame\u001b[0m\u001b[0;34m.\u001b[0m\u001b[0mplay_bots\u001b[0m\u001b[0;34m(\u001b[0m\u001b[0;32mTrue\u001b[0m\u001b[0;34m)\u001b[0m\u001b[0;34m\u001b[0m\u001b[0;34m\u001b[0m\u001b[0m\n\u001b[0m",
      "\u001b[0;32m~/Documents/meetit/AI/AI-Draughts/Game.py\u001b[0m in \u001b[0;36mplay_bots\u001b[0;34m(self, draw_board)\u001b[0m\n\u001b[1;32m    109\u001b[0m \u001b[0;34m\u001b[0m\u001b[0m\n\u001b[1;32m    110\u001b[0m         \u001b[0;32mwhile\u001b[0m \u001b[0mself\u001b[0m\u001b[0;34m.\u001b[0m\u001b[0mcontinue_game\u001b[0m\u001b[0;34m:\u001b[0m\u001b[0;34m\u001b[0m\u001b[0;34m\u001b[0m\u001b[0m\n\u001b[0;32m--> 111\u001b[0;31m             \u001b[0mself\u001b[0m\u001b[0;34m.\u001b[0m\u001b[0mbot_move\u001b[0m\u001b[0;34m(\u001b[0m\u001b[0mself\u001b[0m\u001b[0;34m.\u001b[0m\u001b[0mwhite\u001b[0m\u001b[0;34m,\u001b[0m \u001b[0;32mTrue\u001b[0m\u001b[0;34m,\u001b[0m \u001b[0mdraw_board\u001b[0m\u001b[0;34m)\u001b[0m\u001b[0;34m\u001b[0m\u001b[0;34m\u001b[0m\u001b[0m\n\u001b[0m\u001b[1;32m    112\u001b[0m             \u001b[0;32mif\u001b[0m \u001b[0;32mnot\u001b[0m \u001b[0mself\u001b[0m\u001b[0;34m.\u001b[0m\u001b[0mcontinue_game\u001b[0m\u001b[0;34m:\u001b[0m\u001b[0;34m\u001b[0m\u001b[0;34m\u001b[0m\u001b[0m\n\u001b[1;32m    113\u001b[0m                 \u001b[0;32mbreak\u001b[0m\u001b[0;34m\u001b[0m\u001b[0;34m\u001b[0m\u001b[0m\n",
      "\u001b[0;32m~/Documents/meetit/AI/AI-Draughts/Game.py\u001b[0m in \u001b[0;36mbot_move\u001b[0;34m(self, bot, is_white, draw_board)\u001b[0m\n\u001b[1;32m     45\u001b[0m     \u001b[0;31m# Ask a playing bot what move to make and make it\u001b[0m\u001b[0;34m\u001b[0m\u001b[0;34m\u001b[0m\u001b[0;34m\u001b[0m\u001b[0m\n\u001b[1;32m     46\u001b[0m     \u001b[0;32mdef\u001b[0m \u001b[0mbot_move\u001b[0m\u001b[0;34m(\u001b[0m\u001b[0mself\u001b[0m\u001b[0;34m,\u001b[0m \u001b[0mbot\u001b[0m\u001b[0;34m,\u001b[0m \u001b[0mis_white\u001b[0m\u001b[0;34m,\u001b[0m \u001b[0mdraw_board\u001b[0m\u001b[0;34m=\u001b[0m\u001b[0;32mTrue\u001b[0m\u001b[0;34m)\u001b[0m\u001b[0;34m:\u001b[0m\u001b[0;34m\u001b[0m\u001b[0;34m\u001b[0m\u001b[0m\n\u001b[0;32m---> 47\u001b[0;31m         \u001b[0mmove\u001b[0m \u001b[0;34m=\u001b[0m \u001b[0mbot\u001b[0m\u001b[0;34m.\u001b[0m\u001b[0mmake_move\u001b[0m\u001b[0;34m(\u001b[0m\u001b[0mself\u001b[0m\u001b[0;34m.\u001b[0m\u001b[0mengine\u001b[0m\u001b[0;34m.\u001b[0m\u001b[0mboard\u001b[0m\u001b[0;34m)\u001b[0m\u001b[0;34m\u001b[0m\u001b[0;34m\u001b[0m\u001b[0m\n\u001b[0m\u001b[1;32m     48\u001b[0m         \u001b[0mself\u001b[0m\u001b[0;34m.\u001b[0m\u001b[0mresult\u001b[0m\u001b[0;34m[\u001b[0m\u001b[0;34m'moves'\u001b[0m\u001b[0;34m]\u001b[0m \u001b[0;34m+=\u001b[0m \u001b[0;34m[\u001b[0m\u001b[0mGame\u001b[0m\u001b[0;34m.\u001b[0m\u001b[0mmove_to_dictionary\u001b[0m\u001b[0;34m(\u001b[0m\u001b[0mmove\u001b[0m\u001b[0;34m)\u001b[0m\u001b[0;34m]\u001b[0m\u001b[0;34m\u001b[0m\u001b[0;34m\u001b[0m\u001b[0m\n\u001b[1;32m     49\u001b[0m \u001b[0;34m\u001b[0m\u001b[0m\n",
      "\u001b[0;32m/tmp/ipykernel_64275/2828115655.py\u001b[0m in \u001b[0;36mmake_move\u001b[0;34m(self, board)\u001b[0m\n\u001b[1;32m      1\u001b[0m \u001b[0;32mclass\u001b[0m \u001b[0mMinMaxBot\u001b[0m\u001b[0;34m:\u001b[0m\u001b[0;34m\u001b[0m\u001b[0;34m\u001b[0m\u001b[0m\n\u001b[1;32m      2\u001b[0m     \u001b[0;32mdef\u001b[0m \u001b[0mmake_move\u001b[0m\u001b[0;34m(\u001b[0m\u001b[0mself\u001b[0m\u001b[0;34m,\u001b[0m \u001b[0mboard\u001b[0m\u001b[0;34m)\u001b[0m\u001b[0;34m:\u001b[0m\u001b[0;34m\u001b[0m\u001b[0;34m\u001b[0m\u001b[0m\n\u001b[0;32m----> 3\u001b[0;31m         \u001b[0mbestmove\u001b[0m \u001b[0;34m=\u001b[0m \u001b[0mmakeMove\u001b[0m\u001b[0;34m(\u001b[0m\u001b[0mboard\u001b[0m \u001b[0;34m=\u001b[0m \u001b[0mboard\u001b[0m\u001b[0;34m,\u001b[0m \u001b[0mdepth\u001b[0m \u001b[0;34m=\u001b[0m \u001b[0;36m0\u001b[0m\u001b[0;34m,\u001b[0m \u001b[0mplayer\u001b[0m \u001b[0;34m=\u001b[0m \u001b[0;32mTrue\u001b[0m\u001b[0;34m,\u001b[0m \u001b[0mprevmove\u001b[0m \u001b[0;34m=\u001b[0m \u001b[0;36m0\u001b[0m\u001b[0;34m)\u001b[0m\u001b[0;34m\u001b[0m\u001b[0;34m\u001b[0m\u001b[0m\n\u001b[0m\u001b[1;32m      4\u001b[0m         \u001b[0mrand\u001b[0m \u001b[0;34m=\u001b[0m \u001b[0mrandom\u001b[0m\u001b[0;34m.\u001b[0m\u001b[0mrandrange\u001b[0m\u001b[0;34m(\u001b[0m\u001b[0mbestmove\u001b[0m\u001b[0;34m.\u001b[0m\u001b[0m__len__\u001b[0m\u001b[0;34m(\u001b[0m\u001b[0;34m)\u001b[0m\u001b[0;34m)\u001b[0m\u001b[0;34m\u001b[0m\u001b[0;34m\u001b[0m\u001b[0m\n\u001b[1;32m      5\u001b[0m         \u001b[0;32mreturn\u001b[0m \u001b[0mbestmove\u001b[0m\u001b[0;34m[\u001b[0m\u001b[0;36m0\u001b[0m\u001b[0;34m]\u001b[0m\u001b[0;34m\u001b[0m\u001b[0;34m\u001b[0m\u001b[0m\n",
      "\u001b[0;32m/tmp/ipykernel_64275/496222489.py\u001b[0m in \u001b[0;36mmakeMove\u001b[0;34m(board, depth, player, prevmove)\u001b[0m\n\u001b[1;32m     15\u001b[0m     \u001b[0;32mfor\u001b[0m \u001b[0mmove\u001b[0m \u001b[0;32min\u001b[0m \u001b[0mpossible_moves\u001b[0m\u001b[0;34m:\u001b[0m\u001b[0;34m\u001b[0m\u001b[0;34m\u001b[0m\u001b[0m\n\u001b[1;32m     16\u001b[0m         \u001b[0mnewboard\u001b[0m \u001b[0;34m=\u001b[0m \u001b[0mboard\u001b[0m\u001b[0;34m.\u001b[0m\u001b[0mmake_move\u001b[0m\u001b[0;34m(\u001b[0m\u001b[0mmove\u001b[0m\u001b[0;34m)\u001b[0m\u001b[0;34m\u001b[0m\u001b[0;34m\u001b[0m\u001b[0m\n\u001b[0;32m---> 17\u001b[0;31m         \u001b[0mnextmove\u001b[0m \u001b[0;34m=\u001b[0m \u001b[0mmakeMove\u001b[0m\u001b[0;34m(\u001b[0m\u001b[0mnewboard\u001b[0m\u001b[0;34m,\u001b[0m \u001b[0mdepth\u001b[0m\u001b[0;34m+\u001b[0m\u001b[0;36m1\u001b[0m\u001b[0;34m,\u001b[0m \u001b[0;32mnot\u001b[0m \u001b[0mplayer\u001b[0m\u001b[0;34m,\u001b[0m \u001b[0mmove\u001b[0m\u001b[0;34m)\u001b[0m\u001b[0;34m\u001b[0m\u001b[0;34m\u001b[0m\u001b[0m\n\u001b[0m\u001b[1;32m     18\u001b[0m         \u001b[0mevaluations\u001b[0m\u001b[0;34m.\u001b[0m\u001b[0mappend\u001b[0m\u001b[0;34m(\u001b[0m\u001b[0;34m[\u001b[0m\u001b[0mmove\u001b[0m\u001b[0;34m,\u001b[0m \u001b[0mnextmove\u001b[0m\u001b[0;34m[\u001b[0m\u001b[0;36m1\u001b[0m\u001b[0;34m]\u001b[0m\u001b[0;34m]\u001b[0m\u001b[0;34m)\u001b[0m\u001b[0;34m\u001b[0m\u001b[0;34m\u001b[0m\u001b[0m\n\u001b[1;32m     19\u001b[0m \u001b[0;34m\u001b[0m\u001b[0m\n",
      "\u001b[0;32m/tmp/ipykernel_64275/496222489.py\u001b[0m in \u001b[0;36mmakeMove\u001b[0;34m(board, depth, player, prevmove)\u001b[0m\n\u001b[1;32m     15\u001b[0m     \u001b[0;32mfor\u001b[0m \u001b[0mmove\u001b[0m \u001b[0;32min\u001b[0m \u001b[0mpossible_moves\u001b[0m\u001b[0;34m:\u001b[0m\u001b[0;34m\u001b[0m\u001b[0;34m\u001b[0m\u001b[0m\n\u001b[1;32m     16\u001b[0m         \u001b[0mnewboard\u001b[0m \u001b[0;34m=\u001b[0m \u001b[0mboard\u001b[0m\u001b[0;34m.\u001b[0m\u001b[0mmake_move\u001b[0m\u001b[0;34m(\u001b[0m\u001b[0mmove\u001b[0m\u001b[0;34m)\u001b[0m\u001b[0;34m\u001b[0m\u001b[0;34m\u001b[0m\u001b[0m\n\u001b[0;32m---> 17\u001b[0;31m         \u001b[0mnextmove\u001b[0m \u001b[0;34m=\u001b[0m \u001b[0mmakeMove\u001b[0m\u001b[0;34m(\u001b[0m\u001b[0mnewboard\u001b[0m\u001b[0;34m,\u001b[0m \u001b[0mdepth\u001b[0m\u001b[0;34m+\u001b[0m\u001b[0;36m1\u001b[0m\u001b[0;34m,\u001b[0m \u001b[0;32mnot\u001b[0m \u001b[0mplayer\u001b[0m\u001b[0;34m,\u001b[0m \u001b[0mmove\u001b[0m\u001b[0;34m)\u001b[0m\u001b[0;34m\u001b[0m\u001b[0;34m\u001b[0m\u001b[0m\n\u001b[0m\u001b[1;32m     18\u001b[0m         \u001b[0mevaluations\u001b[0m\u001b[0;34m.\u001b[0m\u001b[0mappend\u001b[0m\u001b[0;34m(\u001b[0m\u001b[0;34m[\u001b[0m\u001b[0mmove\u001b[0m\u001b[0;34m,\u001b[0m \u001b[0mnextmove\u001b[0m\u001b[0;34m[\u001b[0m\u001b[0;36m1\u001b[0m\u001b[0;34m]\u001b[0m\u001b[0;34m]\u001b[0m\u001b[0;34m)\u001b[0m\u001b[0;34m\u001b[0m\u001b[0;34m\u001b[0m\u001b[0m\n\u001b[1;32m     19\u001b[0m \u001b[0;34m\u001b[0m\u001b[0m\n",
      "\u001b[0;32m/tmp/ipykernel_64275/496222489.py\u001b[0m in \u001b[0;36mmakeMove\u001b[0;34m(board, depth, player, prevmove)\u001b[0m\n\u001b[1;32m     11\u001b[0m \u001b[0;34m\u001b[0m\u001b[0m\n\u001b[1;32m     12\u001b[0m     \u001b[0;32mif\u001b[0m \u001b[0mdepth\u001b[0m\u001b[0;34m==\u001b[0m\u001b[0mmaxdepth\u001b[0m\u001b[0;34m:\u001b[0m\u001b[0;34m\u001b[0m\u001b[0;34m\u001b[0m\u001b[0m\n\u001b[0;32m---> 13\u001b[0;31m         \u001b[0;32mreturn\u001b[0m \u001b[0;34m[\u001b[0m\u001b[0mprevmove\u001b[0m\u001b[0;34m,\u001b[0m \u001b[0mheuristic_evaluation\u001b[0m\u001b[0;34m(\u001b[0m\u001b[0mboard\u001b[0m\u001b[0;34m)\u001b[0m\u001b[0;34m]\u001b[0m\u001b[0;34m\u001b[0m\u001b[0;34m\u001b[0m\u001b[0m\n\u001b[0m\u001b[1;32m     14\u001b[0m \u001b[0;34m\u001b[0m\u001b[0m\n\u001b[1;32m     15\u001b[0m     \u001b[0;32mfor\u001b[0m \u001b[0mmove\u001b[0m \u001b[0;32min\u001b[0m \u001b[0mpossible_moves\u001b[0m\u001b[0;34m:\u001b[0m\u001b[0;34m\u001b[0m\u001b[0;34m\u001b[0m\u001b[0m\n",
      "\u001b[0;32m/tmp/ipykernel_64275/189614173.py\u001b[0m in \u001b[0;36mheuristic_evaluation\u001b[0;34m(board)\u001b[0m\n\u001b[1;32m     15\u001b[0m                 \u001b[0mboardVal\u001b[0m \u001b[0;34m+=\u001b[0m \u001b[0;36m2\u001b[0m\u001b[0;34m\u001b[0m\u001b[0;34m\u001b[0m\u001b[0m\n\u001b[1;32m     16\u001b[0m             \u001b[0;32melse\u001b[0m\u001b[0;34m:\u001b[0m\u001b[0;34m\u001b[0m\u001b[0;34m\u001b[0m\u001b[0m\n\u001b[0;32m---> 17\u001b[0;31m                 \u001b[0mboardval\u001b[0m \u001b[0;34m+=\u001b[0m \u001b[0;36m1\u001b[0m\u001b[0;34m\u001b[0m\u001b[0;34m\u001b[0m\u001b[0m\n\u001b[0m\u001b[1;32m     18\u001b[0m \u001b[0;34m\u001b[0m\u001b[0m\n\u001b[1;32m     19\u001b[0m     \u001b[0;32mfor\u001b[0m \u001b[0mpiece\u001b[0m \u001b[0;32min\u001b[0m \u001b[0mboard\u001b[0m\u001b[0;34m.\u001b[0m\u001b[0mblacks\u001b[0m\u001b[0;34m:\u001b[0m\u001b[0;34m\u001b[0m\u001b[0;34m\u001b[0m\u001b[0m\n",
      "\u001b[0;31mUnboundLocalError\u001b[0m: local variable 'boardval' referenced before assignment"
     ]
    }
   ],
   "source": [
    "bot = MinMaxBot()\n",
    "bot2 = MinMaxBot()\n",
    "game = Game(bot, bot2)\n",
    "game.play_bots(True)\n"
   ]
  },
  {
   "cell_type": "markdown",
   "id": "48fa355f",
   "metadata": {
    "collapsed": true
   },
   "source": [
    "## "
   ]
  }
 ],
 "metadata": {
  "kernelspec": {
   "display_name": "Python 3 (ipykernel)",
   "language": "python",
   "name": "python3"
  },
  "language_info": {
   "codemirror_mode": {
    "name": "ipython",
    "version": 3
   },
   "file_extension": ".py",
   "mimetype": "text/x-python",
   "name": "python",
   "nbconvert_exporter": "python",
   "pygments_lexer": "ipython3",
   "version": "3.8.10"
  }
 },
 "nbformat": 4,
 "nbformat_minor": 5
}
